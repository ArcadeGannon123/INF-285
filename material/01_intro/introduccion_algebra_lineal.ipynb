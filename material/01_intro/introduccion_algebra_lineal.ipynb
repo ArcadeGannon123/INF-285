{
 "cells": [
  {
   "cell_type": "markdown",
   "metadata": {},
   "source": [
    "<img src=\"http://sct.inf.utfsm.cl/wp-content/uploads/2020/04/logo_di.png\" style=\"width:60%\">\n",
    "\n",
    "<center>\n",
    "    <h1> ILI285/INF285 Computación Científica </h1>\n",
    "    <h1> Repaso de álgebra lineal </h1>\n",
    "</center>"
   ]
  },
  {
   "cell_type": "code",
   "execution_count": null,
   "metadata": {},
   "outputs": [],
   "source": [
    "import numpy as np\n",
    "import matplotlib.pyplot as plt\n",
    "import ipywidgets as widgets\n",
    "from ipywidgets import interact, interactive, fixed, interact_manual"
   ]
  },
  {
   "cell_type": "markdown",
   "metadata": {},
   "source": [
    "# Definiciones básicas y operaciones"
   ]
  },
  {
   "cell_type": "markdown",
   "metadata": {},
   "source": [
    "**Vector** ($\\vec{u}$ \\\\ $\\mathbf{u}$): Definiremos como un vector, un arreglo unidimensional de números. Encontraremos dos tipos de vectores:\n",
    "\n",
    "\\begin{equation}\n",
    "    \\text{Vector Columna} = \n",
    "    \\begin{bmatrix}\n",
    "        u_1 \\\\\n",
    "        u_2 \\\\\n",
    "        u_3\n",
    "    \\end{bmatrix}_{\\,n\\times 1}\n",
    "    \\qquad\\qquad\n",
    "    \\text{Vector Fila} = \n",
    "    [u_1, u_2, u_3]_{1\\times n}\n",
    "\\end{equation}"
   ]
  },
  {
   "cell_type": "code",
   "execution_count": null,
   "metadata": {},
   "outputs": [],
   "source": [
    "v = np.array([1,2,3])\n",
    "print(v)\n",
    "print(v.shape)"
   ]
  },
  {
   "cell_type": "markdown",
   "metadata": {},
   "source": [
    "**Matriz** ($\\mathbf{A}$): Una matriz $A\\in\\Re^{m \\times n}$ es un arreglo bidimensional de $m$ filas y $n$ columnas, con numeros en $\\Re$.\n",
    "\n",
    "\\begin{equation}\n",
    "    \\mathbf {A} =\n",
    "    \\begin{bmatrix}\n",
    "        a_{11}&a_{12}&\\cdots &a_{1n} \\\\\n",
    "        a_{21}&a_{22}&\\cdots &a_{2n} \\\\\n",
    "        \\vdots &\\vdots &\\ddots &\\vdots \\\\\n",
    "        a_{m1}&a_{m2}&\\cdots &a_{mn}\n",
    "    \\end{bmatrix}_{\\,m \\times n}\n",
    "\\end{equation}"
   ]
  },
  {
   "cell_type": "code",
   "execution_count": null,
   "metadata": {},
   "outputs": [],
   "source": [
    "A = np.array( [ [1,2,3,4],[4,5,6,5],[7,8,9,2] ] )\n",
    "print(\"Dim:\",A.shape)\n",
    "print(A)"
   ]
  },
  {
   "cell_type": "markdown",
   "metadata": {},
   "source": [
    "## Producto Matriz-Vector\n",
    "\n",
    "El producto Matriz-Vector entre $\\mathbf{A}\\in\\Re^{m \\times n}$ y $\\mathbf{u}\\in \\Re^{n}$ se calcula como:\n",
    "\n",
    "\\begin{equation}\n",
    "    \\mathbf {A} \\mathbf{u} =\n",
    "    \\begin{bmatrix}\n",
    "        a_{11}&a_{12}&\\cdots &a_{1n} \\\\\n",
    "        a_{21}&a_{22}&\\cdots &a_{2n} \\\\\n",
    "        \\vdots &\\vdots &\\ddots &\\vdots \\\\\n",
    "        a_{m1}&a_{m2}&\\cdots &a_{mn}\n",
    "     \\end{bmatrix}\n",
    "     \\cdot\n",
    "     \\begin{bmatrix}\n",
    "         u_{1} \\\\\n",
    "         u_{2} \\\\ \n",
    "         \\vdots \\\\\n",
    "         u_{n} \\\\\n",
    "     \\end{bmatrix}=\n",
    "     \\begin{bmatrix}\n",
    "         a_{11}u_{1} + a_{12}u_{2} + \\cdots + a_{1n} u_{n} \\\\\n",
    "         a_{21}u_{1} + a_{22}u_{2} + \\cdots + a_{2n} u_{n} \\\\ \n",
    "         \\vdots \\\\a_{m1}u_{1} + a_{m2}u_{2} + \\cdots + a_{mn} u_{n} \\\\\n",
    "     \\end{bmatrix}\n",
    "\\end{equation}"
   ]
  },
  {
   "cell_type": "markdown",
   "metadata": {},
   "source": [
    "$A_{m\\times n} \\cdot u_{n\\times1} = v_{m\\times 1}$"
   ]
  },
  {
   "cell_type": "code",
   "execution_count": null,
   "metadata": {},
   "outputs": [],
   "source": [
    "A = np.array([[1,2,3],[4,5,6],[7,8,9]])\n",
    "v = np.array([1,2,3])\n",
    "print(A)\n",
    "print(v)\n",
    "print(np.dot(A,v))"
   ]
  },
  {
   "cell_type": "markdown",
   "metadata": {},
   "source": [
    "Notar que podemos ver una matriz como una colección de vectores columnas, entonces:\n",
    "\n",
    "\\begin{equation}\n",
    "    \\mathbf {A} =\n",
    "    \\begin{bmatrix}\n",
    "        a_{11}&a_{12}&\\cdots &a_{1n} \\\\\n",
    "        a_{21}&a_{22}&\\cdots &a_{2n} \\\\\n",
    "        \\vdots &\\vdots &\\ddots &\\vdots \\\\\n",
    "        a_{m1}&a_{m2}&\\cdots &a_{mn}\n",
    "    \\end{bmatrix}=\n",
    "    [\\vec{a}_{1}|\\vec{a}_{2}|\\dots|\\vec{a}_{n}], \\quad \\vec{a}_{i} \\in \\Re^{m}, \\, i \\in \\{1,\\dots,n\\}\n",
    "\\end{equation}\n",
    "\n",
    "Así, el producto matriz-vector se calcula como:\n",
    "\n",
    "\\begin{equation}\n",
    "    \\mathbf {A} \\mathbf{u} = [\\vec{a}_{1}|\\vec{a}_{2}|\\dots|\\vec{a}_{n}] \\cdot \\vec{v} \n",
    "    = u_{1} \\vec{a}_{1} + u_{2} \\vec{a}_{2}+\\cdots+u_{n}\\vec{a}_{n} \n",
    "    = \\sum_{i=1}^{n} u_{i}\\vec{a}_{i} =\\vec{b}\n",
    "\\end{equation}"
   ]
  },
  {
   "cell_type": "markdown",
   "metadata": {},
   "source": [
    "\\begin{equation}\n",
    "    \\mathbf {A} \\mathbf {B} =\n",
    "    \\begin{bmatrix}\n",
    "        a_{11}&a_{12}&\\cdots &a_{1n} \\\\\n",
    "        a_{21}&a_{22}&\\cdots &a_{2n} \\\\\n",
    "        \\vdots &\\vdots &\\ddots &\\vdots \\\\\n",
    "        a_{m1}&a_{m2}&\\cdots &a_{mn}\\\\\n",
    "    \\end{bmatrix}\n",
    "    \\cdot\n",
    "    \\begin{bmatrix}\n",
    "        b_{11}&b_{12}&\\cdots &b_{1p} \\\\\n",
    "        b_{21}&b_{22}&\\cdots &b_{2p} \\\\\n",
    "        \\vdots &\\vdots &\\ddots &\\vdots \\\\\n",
    "        b_{n1}&b_{n2}&\\cdots &b_{np}\\\\\n",
    "    \\end{bmatrix} =\n",
    "    \\begin{bmatrix}\n",
    "        a_{11}b_{11}+\\cdots +a_{1n}b_{n1}&a_{11}b_{12}+\\cdots \n",
    "            +a_{1n}b_{n2}&\\cdots &a_{11}b_{1p}+\\cdots +a_{1n}b_{np}\\\\\n",
    "        a_{21}b_{11}+\\cdots +a_{2n}b_{n1}&a_{21}b_{12}+\\cdots \n",
    "            +a_{2n}b_{n2}&\\cdots &a_{21}b_{1p}+\\cdots +a_{2n}b_{np}\\\\\n",
    "        \\vdots &\\vdots &\\ddots &\\vdots \\\\\n",
    "        a_{m1}b_{11}+\\cdots +a_{mn}b_{n1}&a_{m1}b_{12}+\\cdots \n",
    "            +a_{mn}b_{n2}&\\cdots &a_{m1}b_{1p}+\\cdots +a_{mn}b_{np}\\\\\n",
    "     \\end{bmatrix}\n",
    "\\end{equation}"
   ]
  },
  {
   "cell_type": "code",
   "execution_count": null,
   "metadata": {},
   "outputs": [],
   "source": [
    "A = np.array([[7,2,3],[4,5,6],[7,8,9]])\n",
    "B = np.array([[2,3,4],[4,1,6],[7,8,1]])\n",
    "np.dot(A,B)"
   ]
  },
  {
   "cell_type": "markdown",
   "metadata": {},
   "source": [
    "Organizando las matrices por sus vectores columnas, podemos calcular el producto matriz-matriz como:\n",
    "\n",
    "$$\n",
    "[\\vec{a}_{1}|\\vec{a}_{2}|\\dots|\\vec{a}_{n}] \\cdot [\\vec{b}_{1}|\\vec{b}_{2}|\\dots|\\vec{b}_{n}] = C \\in \\Re^{m \\times l} \\Rightarrow \\vec{c}_{i} = \\displaystyle \\sum_{k=1}^{n} \\vec{b}_{ki}\\cdot\\vec{a}_{k} = A \\cdot \\vec{b}_{i} \\\\ C = [A \\vec{b}_{1}|A \\vec{b}_{2}|\\dots|A \\vec{b}_{n}]\n",
    "$$"
   ]
  },
  {
   "cell_type": "markdown",
   "metadata": {},
   "source": [
    "# Espacios vectoriales y álgebra lineal"
   ]
  },
  {
   "cell_type": "markdown",
   "metadata": {},
   "source": [
    "**Espacio vectorial**: Un espacio vectorial $V$ corresponde a una colección de objetos (vectores) que posee las siguientes operaciones:\n",
    "\n",
    "* Adición: Se define como +: $ V \\times V \\rightarrow V$, es decir, tomamos dos elementos $v,w \\in V$ y de resultado es $v+w \\in V$.\n",
    "* Multiplicación escalar: Se define como ·: $ F \\times V \\rightarrow V$, es decir, tomamos un escalar $\\alpha \\in F$ y $v \\in V$ y el resultado de $\\alpha v \\in V$.\n",
    "\n",
    "Además, se deben cumplir los siguientes axiomas; $\\forall u,v,w \\in V$, $\\forall a,b \\in F$:\n",
    "\n",
    "* a) Asociatividad de la adición: $u+(v+w) = (u+v)+w$\n",
    "* b) Conmutatividad de la adición: $ u + v = v + u $\n",
    "* c) Identidad aditiva: $\\exists \\emptyset \\in V:\\, u+\\emptyset = \\emptyset + u = u$ \n",
    "* d) Inverso aditivo: $\\forall u \\in V, \\exists -u \\in V: u + (-u) = \\emptyset$\n",
    "* e) Compatibilidad del producto escalar con el producto del campo: $a\\cdot (b\\cdot u) = (a \\cdot b)\\cdot u$\n",
    "* f) Identidad en escalar multiplicativo: $\\exists 1 \\in F: 1\\cdot u = u \\cdot 1 = u$\n",
    "* g) Distributividad del producto escalar respecto a la adición de vectores: $a\\cdot(u+v) = au + av$\n",
    "* h) Distributividad del producto escalar respecto a adición en el campo: $(a+b)u = au + bu$\n",
    "\n",
    "Los elementos de V se llaman vectores y los elementos de F se denominan como escalares.\n"
   ]
  },
  {
   "cell_type": "markdown",
   "metadata": {},
   "source": [
    "**Ejemplo**:\n",
    "* Verificar si $P_{3} = \\{a_{0} + a_{1}x + a_{2}x^{2} + a_{3}x^{3}|a_{0},\\cdots,a_{3}\\in\\Re\\}$ es un espacio vectorial."
   ]
  },
  {
   "cell_type": "markdown",
   "metadata": {},
   "source": [
    "**Subespacio**: Se define como sub espacio vectorial H de V como un subconjunto H de V que cumple con:\n",
    "* El vector nulo de V está en H\n",
    "* H es cerrado frente a a la adición de vectores en H\n",
    "* H es cerrado frente a la multiplicación de escalares"
   ]
  },
  {
   "cell_type": "markdown",
   "metadata": {},
   "source": [
    "**Transformación lineal**: Sea V y W espacios vectoriales, una función $f:V\\rightarrow W$ se dice que es una transformación lineal si para todo vector $\\vec{u},\\vec{v}\\in V$ y escalar $c\\in K$, las siguientes condiciones se cumplen:\n",
    "* $f(u+v) = f(u) + f(v)$\n",
    "* $f(cu) = c\\,f(u)$\n",
    "\n",
    "**Combinación lineal**: Sea $ \\{\\vec{v}_{1},\\vec{v}_{2},\\cdots,\\vec{v}_{n}\\}$ vectores de un espacio vectorial y $c_{1},c_{2},\\cdots,c_{n}$ escalares, entonces se denomina como una combinación lineal a los vectores de la forma:\n",
    "\n",
    "\\begin{equation}\n",
    "    \\vec{u} = c_{1} \\vec{v}_{1} + c_{2} \\vec{v}_{2}+\\cdots+c_{n}\\vec{v}_{n} = \\sum_{i=1}^{n} c_{i}\\vec{v}_{i}\n",
    "\\end{equation}\n",
    "\n",
    "span($v_{1},v_{2},\\cdots,v_{n}$) = V\n",
    "\n",
    "**Conjunto generador**: Sea $ \\{\\vec{v}_{1},\\vec{v}_{2},\\cdots,\\vec{v}_{n}\\}$ un conjunto de los vectores de un espacio(o subespacio) vectorial V. Si todo vector en V puede ser escrito como una combinación de los vectores $\\{v_{1},v_{2},\\cdots,v_{n}\\}$, entonces se dice que el conjunto $S=\\{v_{1},v_{2},\\cdots,v_{n}\\}$ genera (span) a $V$, es decir, S es el conjunto generador de $V$.\n",
    "\n",
    "\n",
    "**Dependencia lineal**: Sea $S=\\{\\vec{v}_{1},\\vec{v}_{2},\\cdots,\\vec{v}_{n}\\}$ un conjunto de vectores de un espacio vectorial $V$, se dice que los vectores en S son linealmente dependientes si existen escalares $c_{1},c_{2},\\cdots,c_{n}$, no todos nulos, tal que:\n",
    "\n",
    "\\begin{equation}\n",
    " c_{1} \\vec{v}_{1} + c_{2} \\vec{v}_{2}+\\cdots+c_{n}\\vec{v}_{n} = \\vec{0}\n",
    "\\end{equation}\n",
    "\n",
    "\n",
    "**Independencia lineal**: Un conjunto $T=\\{\\vec{v}_{1},\\vec{v}_{2},\\cdots,\\vec{v}_{n}\\}$ de vectores de un espacio vectorial se dice linealmente independiente si la siguiente ecuacion se cumple:\n",
    "\n",
    "\\begin{equation}\n",
    " c_{1} \\vec{v}_{1} + c_{2} \\vec{v}_{2}+\\cdots+c_{n}\\vec{v}_{n} = \\vec{0}\n",
    "\\end{equation}\n",
    "\n",
    "si y solo si $c_{1} = c_{2} = \\cdots = c_{n} = 0$.\n",
    "\n",
    "**Base**: Un conjunto $B$ de vectores de un espacio vectorial $V$ se le denomina base de $V$ si:\n",
    "* $B$ es un conjunto de vectores linealmente independientes\n",
    "* $B$ genera $V$, es decir, $V$ = span(B)"
   ]
  },
  {
   "cell_type": "markdown",
   "metadata": {},
   "source": [
    "**Ejemplo**: Resolvamos:\n",
    "\n",
    "\\begin{aligned}\n",
    "    x+y =1\\\\\n",
    "    ax+y = b\n",
    "\\end{aligned}\n",
    "\n",
    "¿Cómo podriamos relacionarlo con lo anterior?"
   ]
  },
  {
   "cell_type": "markdown",
   "metadata": {},
   "source": [
    "\\begin{equation}\n",
    "    \\begin{bmatrix}\n",
    "        1&1 \\\\\n",
    "        a&1 \\\\\n",
    "     \\end{bmatrix}\n",
    "     \\begin{bmatrix}\n",
    "         x \\\\\n",
    "         y \\\\\n",
    "     \\end{bmatrix} = \n",
    "     \\begin{bmatrix}\n",
    "         1 \\\\\n",
    "         b \\\\\n",
    "     \\end{bmatrix}\n",
    "\\end{equation}\n",
    "\n",
    "\\begin{equation}\n",
    "    x \\begin{bmatrix}1\\\\a\\\\\\end{bmatrix} + y \\begin{bmatrix}1\\\\1\\\\\\end{bmatrix} = \\begin{bmatrix}1\\\\b\\\\\\end{bmatrix}\n",
    "\\end{equation}"
   ]
  },
  {
   "cell_type": "code",
   "execution_count": null,
   "metadata": {},
   "outputs": [],
   "source": [
    "def plot(a,b):\n",
    "    plt.figure(figsize=(8, 6)) \n",
    "    f = lambda x: 1-x\n",
    "    g = lambda a,b, x: b - a*x\n",
    "    f_e = f(np.linspace(-5,5,100))\n",
    "    g_e = g(a,b,np.linspace(-5,5,100))\n",
    "    plt.plot(np.linspace(-5,5,100),f_e, label=r\"$y=1-x$\")\n",
    "    plt.plot(np.linspace(-5,5,100),g_e, label=r\"$y=b-ax$\")\n",
    "    plt.grid(True)\n",
    "    plt.xlim(-5,5)\n",
    "    plt.ylim(-15,25)\n",
    "    plt.legend()\n",
    "    plt.show()\n",
    "interact(plot, a = (0,4), b = (0,4));"
   ]
  },
  {
   "cell_type": "markdown",
   "metadata": {},
   "source": [
    "# Propiedades de matrices"
   ]
  },
  {
   "cell_type": "markdown",
   "metadata": {},
   "source": [
    "**Matriz identidad** : La matriz $I_{n}\\in\\Re^{n\\times n}$ se llama matriz identidad si cumple:\n",
    "\\begin{equation}\n",
    "    I_{n}=\n",
    "    \\begin{bmatrix}\n",
    "        1&0&0& \\cdots &0 \\\\\n",
    "        0&1&0& \\cdots &0 \\\\\n",
    "        0&0&1& \\cdots &0 \\\\\n",
    "        \\vdots &\\vdots &\\vdots &\\ddots &\\vdots \\\\\n",
    "        0&0&0&\\cdots &1\n",
    "    \\end{bmatrix}.\n",
    "\\end{equation}\n",
    "\n",
    "\\begin{equation}\n",
    "    I_{n} A = A I_{n} = A, \\forall A \\in \\Re^{n\\times n}\n",
    "\\end{equation}\n",
    "\n"
   ]
  },
  {
   "cell_type": "code",
   "execution_count": null,
   "metadata": {},
   "outputs": [],
   "source": [
    "A = np.array([[1,2,3],[4,5,6],[7,8,9]])\n",
    "I = np.identity(3)\n",
    "print(A)\n",
    "print(I)\n",
    "print(np.dot(A,I))"
   ]
  },
  {
   "cell_type": "markdown",
   "metadata": {},
   "source": [
    "**Matriz inversa**: Sea $A\\in\\Re^{n\\times n}$, se denomina matriz inversa de A, denotada como $A^{-1}$, a la matriz que cumple:\n",
    "\n",
    "\\begin{equation}\n",
    "    AA^{-1} = A^{-1}A = I_{n}\n",
    "\\end{equation}\n"
   ]
  },
  {
   "cell_type": "code",
   "execution_count": null,
   "metadata": {},
   "outputs": [],
   "source": [
    "A = np.array([[7,2,3],[4,5,6],[7,8,9]])\n",
    "AA = np.linalg.inv(A)\n",
    "print(np.dot(A,AA))"
   ]
  },
  {
   "cell_type": "markdown",
   "metadata": {},
   "source": [
    "Si A tiene inversa, se dice que es invertible o no singular. SI no tiene inversa, se dice no invertible o singular. \n",
    "\n",
    "Algunas propiedades de la inversa son:\n",
    "* $(A^{-1})^{-1} = A$\n",
    "* $(AB)^{-1} = B^{-1}A^{-1}$\n",
    "* $(\\alpha A)^{-1} = \\frac{1}{\\alpha} A^{-1}, \\alpha \\in \\Re, \\alpha \\neq 0$\n",
    "* $(A^{n})^{-1} = (A^{-1})^{n}$"
   ]
  },
  {
   "cell_type": "markdown",
   "metadata": {},
   "source": [
    "Tengamos en cuenta lo siguiente:"
   ]
  },
  {
   "cell_type": "markdown",
   "metadata": {},
   "source": [
    "\\begin{equation}\n",
    "    \\begin{split}\n",
    "        A\\vec{x} & = \\vec{b} \\\\\n",
    "        A^{-1} A \\vec{x} & = A^{-1} \\vec{b} \\\\\n",
    "        \\vec{x} & = A^{-1} \\vec{b}\n",
    "    \\end{split}\n",
    "\\end{equation}"
   ]
  },
  {
   "cell_type": "markdown",
   "metadata": {},
   "source": [
    "Consideremos el siguiente problema:\n",
    "\\begin{equation}\n",
    "    \\begin{bmatrix}\n",
    "        7&2&3 \\\\\n",
    "        4&5&6 \\\\\n",
    "        7&8&9 \n",
    "    \\end{bmatrix} \n",
    "    \\begin{bmatrix}\n",
    "        x \\\\\n",
    "        y \\\\\n",
    "        z \n",
    "    \\end{bmatrix} = \n",
    "    \\begin{bmatrix}\n",
    "        4 \\\\\n",
    "        2 \\\\\n",
    "        3 \n",
    "    \\end{bmatrix}\n",
    "\\end{equation}"
   ]
  },
  {
   "cell_type": "code",
   "execution_count": null,
   "metadata": {},
   "outputs": [],
   "source": [
    "A = np.array([[7,2,3],[4,5,6],[7,8,9]])\n",
    "b = np.array([4,2,3])\n",
    "AA = np.linalg.inv(A) # O(n^3)\n",
    "np.dot(AA,b) # O(n^3)"
   ]
  },
  {
   "cell_type": "code",
   "execution_count": null,
   "metadata": {},
   "outputs": [],
   "source": [
    "np.linalg.solve(A,b)"
   ]
  },
  {
   "cell_type": "markdown",
   "metadata": {},
   "source": [
    "**Matriz transpuesta**: Sea $A\\in\\Re^{n\\times n}$, la matriz transpuesta se define como:\n",
    "\n",
    "\\begin{equation}\n",
    "    a^{T}_{ij} = a_{ji}\n",
    "\\end{equation}\n",
    "\n",
    "\\begin{equation}\n",
    "    \\begin{bmatrix}\n",
    "        a&b&c \\\\\n",
    "        d&e&f \\\\\n",
    "        g&h&i \n",
    "    \\end{bmatrix}^{\\operatorname {\\,T} }=\n",
    "    \\begin{bmatrix}\n",
    "       a&d&g \\\\\n",
    "       b&e&h \\\\\n",
    "       c&f&i\n",
    "    \\end{bmatrix}\n",
    "\\end{equation}"
   ]
  },
  {
   "cell_type": "code",
   "execution_count": null,
   "metadata": {},
   "outputs": [],
   "source": [
    "A = np.array([[7,2,3],[4,5,6],[7,8,9]])\n",
    "print(A)\n",
    "print(A.T)"
   ]
  },
  {
   "cell_type": "markdown",
   "metadata": {},
   "source": [
    "Propiedades de la transpuesta:\n",
    "* $(A^{T})^{T} = A$\n",
    "* $(A+B)^{T} = A^{T} + B^{T}$\n",
    "* $(AB)^{T} = B^{T} A^{T}$\n",
    "* $(\\alpha A)^{T} = \\alpha A^{T}$\n",
    "* $(A^{T})^{-1} = (A^{-1})^{T}$"
   ]
  },
  {
   "cell_type": "code",
   "execution_count": null,
   "metadata": {},
   "outputs": [],
   "source": [
    "np.transpose(np.transpose(A)) == A"
   ]
  },
  {
   "cell_type": "markdown",
   "metadata": {},
   "source": [
    "**Transpuesta conjugada**: Sea $A\\in \\mathbb{C}^{m \\times n}$ la matriz adjunta o transpuesta conjugada de A, denotada por $A^{*}\\in \\mathbb{C}^{n \\times m}$ cuyos coeficientes son:\n",
    "\n",
    "\\begin{equation}\n",
    "a^{*}_{ij} = \\overline{a_{ji}}\n",
    "\\end{equation}\n",
    "\n",
    "\\begin{equation}\n",
    "    \\begin{bmatrix}\n",
    "        1&-2-i&5\\\\\n",
    "        1+i&i&4-2i\n",
    "    \\end{bmatrix}^{*} = \n",
    "    \\begin{bmatrix}\n",
    "        1&1-i\\\\\n",
    "        -2+i&-i\\\\\n",
    "        5&4+2i\n",
    "    \\end{bmatrix}\n",
    "\\end{equation}"
   ]
  },
  {
   "cell_type": "markdown",
   "metadata": {},
   "source": [
    "**Otras matrices**:\n",
    "* **Matriz simétrica**: $A=A^{T}$\n",
    "* **Matriz hermitiana**: $A=A^{*}$\n",
    "* **Matriz unitaria**: $A^{*} = A^{-1}$\n",
    "* **Matriz ortogonal**: $A^{T} = A^{-1}$"
   ]
  },
  {
   "cell_type": "markdown",
   "metadata": {},
   "source": [
    "**Rango**: Dada una matriz $A\\in\\Re^{m\\times n}$ se llama column space, range o rango al espacio generado por las columnas de A, denotado por Range(A).\n",
    "\n",
    "**Nullspace**: El nullspace de $A\\in\\mathbb{C}^{m \\times n}$, denotado por null(A), se define como:\n",
    "\\begin{equation}\n",
    "    null(A) = \\{\\vec{x} \\in \\mathbb{C}^{n} | \\, A\\vec{x} = \\vec{0},\\vec{x} \\neq \\vec{0}\\}\n",
    "\\end{equation}\n",
    "\n",
    "**Rank**: Se define:\n",
    "* Column-rank: Dimensión del column space(columnas linealmente independientes) denotado por rank(A)\n",
    "* Row-rank: Dimensión del row-space. \n",
    "\n",
    "**Full rank**: \n",
    "* ($N \\times N$): Para una matriz cuadrada se dice que es full rank si todos los vectores columnas y filas son linealmente independiente.\n",
    "* ($N \\times M$): Para una matriz no cuadrada se dice que es full rank si el column-rank y el row-rank tienen los valores más grandes posibles dada las dimensiones de la matriz."
   ]
  },
  {
   "cell_type": "markdown",
   "metadata": {},
   "source": [
    "Las siguientes condiciones son equivalentes:\n",
    "* $A$ tiene inversa $A^{-1}$\n",
    "* $Rank(A) = m$\n",
    "* $Range(A) = \\Re^{m}$\n",
    "* $Null(A) = \\emptyset$\n",
    "* $\\emptyset$ no es un valor propio de $A$\n",
    "* $\\emptyset$ no es valor singular de $A$\n",
    "* $det(A) \\neq 0$"
   ]
  },
  {
   "cell_type": "markdown",
   "metadata": {},
   "source": [
    "# Operatorias vectoriales"
   ]
  },
  {
   "cell_type": "markdown",
   "metadata": {},
   "source": [
    "**Producto interno**: Un producto interno o \"inner product\" es un mapeo $\\langle\\bullet,\\bullet\\rangle:V\\times V \\rightarrow F$, con V un espacio vectorial y F un campo, y que cumple los siguientes axiomas para todo vector $\\vec{x},\\vec{y},\\vec{z} \\in V$ y $\\alpha \\in F$.\n",
    "\n",
    "* $\\langle x,y\\rangle = \\overline{\\langle y,x\\rangle}$\n",
    "* Linealidad en el primer argumento:\n",
    "    * $\\langle\\alpha x,y\\rangle = \\alpha \\langle x,y\\rangle$\n",
    "    * $\\langle x+z,y\\rangle = \\langle x,y\\rangle + \\langle y,z\\rangle$\n",
    "* $\\langle x,x\\rangle \\geq 0$\n",
    "* $\\langle x,x\\rangle = 0 \\iff x = 0$"
   ]
  },
  {
   "cell_type": "markdown",
   "metadata": {},
   "source": [
    "**Producto interno a nuestro caso**: Sea $x,y\\in \\mathbb{C}^{m}$ dos vectores columnas, se define el producto interno como:\n",
    "\\begin{equation}\n",
    "    \\langle x,y \\rangle = x^{*} y = \\displaystyle \\sum_{i=1}^{m} \\overline{x_{i}}y_{i}\n",
    "\\end{equation}"
   ]
  },
  {
   "cell_type": "code",
   "execution_count": null,
   "metadata": {},
   "outputs": [],
   "source": [
    "x = np.array([1, 2, 3])\n",
    "y = np.array([3, 3, 3])\n",
    "print(np.dot(x, y), np.sum(x * y))"
   ]
  },
  {
   "cell_type": "markdown",
   "metadata": {},
   "source": [
    "Una norma inducida por esta definición es la **Norma Euclidiana**:\n",
    "\n",
    "\\begin{equation}\n",
    "    ||x||_{2} = \\sqrt{\\langle x,x \\rangle} = \\sqrt{x^{*}x} = \\left( \\displaystyle \\sum_{i=1}^{m} x_{i}^{2} \\right) ^{1/2}\n",
    "\\end{equation}"
   ]
  },
  {
   "cell_type": "code",
   "execution_count": null,
   "metadata": {},
   "outputs": [],
   "source": [
    "print(np.linalg.norm(x), np.sqrt(np.dot(x, x)))"
   ]
  },
  {
   "cell_type": "markdown",
   "metadata": {},
   "source": [
    "**Norma**: Dado un espacio vectorial $V$ sobre un campo $F$, una norma es un mapeo no-negativo $p:V \\rightarrow [0,\\infty)$ que cumple:\n",
    "* Sea $u,v \\in V$, $p(u+v)\\leq p(u) + p(v)$\n",
    "* $p(\\alpha u) = |\\alpha|p(u)$, $\\alpha \\in F$\n",
    "* Si $p(u) = 0$, entonces $u=\\vec{0}$"
   ]
  },
  {
   "cell_type": "markdown",
   "metadata": {},
   "source": [
    "Propiedad: $\\langle x,y \\rangle = x^{*}y = ||x||_{2} ||y||_{2}\\cos(\\alpha) $ con $\\alpha$ ángulo entre $x$ e $y$."
   ]
  },
  {
   "cell_type": "code",
   "execution_count": null,
   "metadata": {},
   "outputs": [],
   "source": [
    "v1 = np.array([1, 0])\n",
    "v2 = np.array([0, 1])\n",
    "print(np.linalg.norm(v1) * np.linalg.norm(v2) * np.cos(np.pi/2), np.dot(v1, v2))"
   ]
  },
  {
   "cell_type": "markdown",
   "metadata": {},
   "source": [
    "¿Qué pasa en el primer caso?"
   ]
  },
  {
   "cell_type": "markdown",
   "metadata": {},
   "source": [
    "**Ortogonalidad**: Sea $V$ un \"Inner product space\", dos vectores $u,v\\in V$ se dicen que son ortogonales si $\\langle u,v\\rangle = 0$. Además, si la norma de cada vector es igual a $1$, se dicen que son ortonormales."
   ]
  },
  {
   "cell_type": "markdown",
   "metadata": {},
   "source": [
    "**Producto exterior**: Sean $u$ y $v$ vectores columnas, el producto exterior esta definido como:\n",
    "\\begin{equation}\n",
    "    \\mathbf {u} \\otimes \\mathbf {v} = u\\,v^{T} = \n",
    "    \\begin{bmatrix}\n",
    "        u_{1} \\\\\n",
    "        u_{2} \\\\ \n",
    "        \\vdots \\\\\n",
    "        u_{n} \\\\\n",
    "    \\end{bmatrix} \n",
    "    \\begin{bmatrix}\n",
    "        v_{1}, \\, v_{2}, \\, \\cdots, \\, v_{n} \n",
    "    \\end{bmatrix}   =\n",
    "    \\begin{bmatrix}\n",
    "        u_{1}v_{1} &u_{1}v_{2}&\\dots &u_{1}v_{n} \\\\\n",
    "        u_{2}v_{1}&u_{2}v_{2}&\\dots &u_{2}v_{n} \\\\\n",
    "        \\vdots &\\vdots &\\ddots &\\vdots \\\\\n",
    "        u_{m}v_{1}&u_{m}v_{2}&\\dots &u_{m}v_{n}\n",
    "     \\end{bmatrix}\n",
    "\\end{equation}"
   ]
  },
  {
   "cell_type": "code",
   "execution_count": null,
   "metadata": {},
   "outputs": [],
   "source": [
    "np.outer(x, y)"
   ]
  },
  {
   "cell_type": "markdown",
   "metadata": {},
   "source": [
    "Algunas normas usuales:\n",
    "\n",
    "### Norma 1 \n",
    "\\begin{equation}\n",
    "    ||x||_{1} = \\displaystyle \\sum_{i=1}^{n} |x_{i}|\n",
    "\\end{equation}"
   ]
  },
  {
   "cell_type": "code",
   "execution_count": null,
   "metadata": {},
   "outputs": [],
   "source": [
    "np.linalg.norm(x, ord=1)"
   ]
  },
  {
   "cell_type": "markdown",
   "metadata": {},
   "source": [
    "### Norma 2 \n",
    "\\begin{equation}\n",
    "    ||x||_{2} = \\left( \\sum_{i=1}^{n} x_{i}^{2}\\right)^{1/2} = \\sqrt{x^{*}x} = \\sqrt{\\langle x,x\\rangle}\n",
    "\\end{equation}"
   ]
  },
  {
   "cell_type": "code",
   "execution_count": null,
   "metadata": {},
   "outputs": [],
   "source": [
    "np.linalg.norm(x, ord=2)"
   ]
  },
  {
   "cell_type": "markdown",
   "metadata": {},
   "source": [
    "### Norma infinita \n",
    "\\begin{equation}\n",
    "    ||x||_{\\infty} = \\max\\{|x_{i}|\\}\n",
    "\\end{equation}"
   ]
  },
  {
   "cell_type": "code",
   "execution_count": null,
   "metadata": {},
   "outputs": [],
   "source": [
    "np.linalg.norm(x, ord=np.inf)"
   ]
  },
  {
   "cell_type": "markdown",
   "metadata": {},
   "source": [
    "### Norma-p\n",
    "\\begin{equation}\n",
    "    ||x||_{p} = \\left(\\displaystyle \\sum_{i=1}^{n} |x_{i}|^{p} \\right)^{\\frac{1}{p}}\n",
    "\\end{equation}\n",
    "\n",
    "### Weighted p-norm\n",
    "Cada coeficiente tiene un peso. Sea $W$ la matriz diagonal donde $w_{ii} = p_{i}$ (i-esimo peso), se define como:\n",
    "\\begin{equation}\n",
    "    ||x||_{W} = ||W\\vec{x}||_{p}\n",
    "\\end{equation}"
   ]
  },
  {
   "cell_type": "markdown",
   "metadata": {},
   "source": [
    "**Norma Matricial**: Sea $K$ un campo y $K^{m \\times n}$ el espacio vectorial de las matrices $m \\times n$ con coeficientes en $K$. Una norma matricial es una norma en el espacio vectorial $K^{m \\times n}$, es decir, es una función $||\\cdot||: K^{m \\times n} \\rightarrow R^{+}$ que satisfaces las siguientes propeidades para todo $\\alpha \\in K$ y $A,B\\in K^{m \\times n}$\n",
    "\n",
    "* $||\\alpha A|| = |\\alpha| ||A||$\n",
    "* $||A+B|| \\leq ||A|| + ||B||$\n",
    "* $||A|| \\geq 0$\n",
    "* $ ||A|| = 0 \\iff A=0_{mn}$\n",
    "\n",
    "Adicionalmente, para matrices cuadradas se cumple la siguiente condición:\n",
    "\n",
    "* $||AB|| \\leq ||A||||B||$"
   ]
  },
  {
   "cell_type": "markdown",
   "metadata": {},
   "source": [
    "**Norma inducida por norma vectorial**: Dado $A\\in K^{m\\times n}$, $||\\cdot||_{m}$ una norma en $K^{m}$ y $||\\cdot||_{m}$ una norma en $K^{n}$, la norma matricial inducida $||A||_{(m,n)}$ es el número C más pequeño que cumple:\n",
    "\n",
    "\\begin{equation}\n",
    "    ||A\\vec{x}||_{m} \\leq C ||\\vec{x}||_{n}, \\quad \\forall \\vec{x} \\in K^{n}, \\vec{x} \\neq \\vec{0}\n",
    "\\end{equation}\n",
    "\n",
    "\\begin{equation}\n",
    "    ||A|| = \\sup\\left\\{\\frac{||A\\vec{x}||_{m}}{||\\vec{x}||_{n}}| ~ \\vec{x} \\in K^{n}, \\,\\vec{x} \\neq \\vec{0}\\right\\}\n",
    "\\end{equation}"
   ]
  },
  {
   "cell_type": "markdown",
   "metadata": {},
   "source": [
    "**Norma de Frobenius**: Sea $A\\in K^{m \\times n}$, se define la norma de Frobenius como:\n",
    "\n",
    "\\begin{equation}\n",
    "    ||A||_{F} = \\left[\\displaystyle \\sum_{i=1}^{m} \\sum_{j=1}^{n} |a_{ij}|^{2} \\right]^{\\frac{1}{2}}\n",
    "\\end{equation}"
   ]
  }
 ],
 "metadata": {
  "kernelspec": {
   "display_name": "Python 3",
   "language": "python",
   "name": "python3"
  },
  "language_info": {
   "codemirror_mode": {
    "name": "ipython",
    "version": 3
   },
   "file_extension": ".py",
   "mimetype": "text/x-python",
   "name": "python",
   "nbconvert_exporter": "python",
   "pygments_lexer": "ipython3",
   "version": "3.7.7"
  }
 },
 "nbformat": 4,
 "nbformat_minor": 4
}
