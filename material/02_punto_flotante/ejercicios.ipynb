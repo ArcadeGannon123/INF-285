{
 "cells": [
  {
   "cell_type": "markdown",
   "metadata": {},
   "source": [
    "# Ejercicios Pérdida de Significancia"
   ]
  },
  {
   "cell_type": "code",
   "execution_count": null,
   "metadata": {},
   "outputs": [],
   "source": [
    "import numpy as np\n",
    "import matplotlib.pyplot as plt"
   ]
  },
  {
   "cell_type": "markdown",
   "metadata": {},
   "source": [
    "## Comentario de la clase...\n",
    "\n",
    "Del ejercicio realizado en clases teníamos problemas con $p=53$ para representación en *doble precisión*. Se puede representar hasta $2^{53}$ sin problemas y luego solo podemos sumar múltiplos de $2$ (combinaciones de los bits asociados a $2^{1}$, $2^{2}$, $2^{3}$, $\\dots$), ya que se pierde el $2^0$. Ver el ejemplo en el video de la clase."
   ]
  },
  {
   "cell_type": "code",
   "execution_count": null,
   "metadata": {},
   "outputs": [],
   "source": [
    "2.**53, 2.**53+1, 2.**53+2, 2.**53+3, 2.**53+4, 2.**53+5, 2.**53+6, 2.**53+7, 2.**53+8, 2.**53+9"
   ]
  },
  {
   "cell_type": "markdown",
   "metadata": {},
   "source": [
    "## Ejercicio 1"
   ]
  },
  {
   "cell_type": "markdown",
   "metadata": {},
   "source": [
    "Obtener $a+\\sqrt{a^2 + b^4}$, $a=-12345678987654321$, $b=123$.\n",
    "\n",
    "Resultado aproximado: $9.2699089790398179 \\times 10^{-9}$"
   ]
  },
  {
   "cell_type": "code",
   "execution_count": null,
   "metadata": {},
   "outputs": [],
   "source": [
    "a = -12345678987654321.\n",
    "b = 123."
   ]
  },
  {
   "cell_type": "code",
   "execution_count": null,
   "metadata": {},
   "outputs": [],
   "source": [
    "print(\"a: %f, b: %f\" % (a, b))"
   ]
  },
  {
   "cell_type": "markdown",
   "metadata": {},
   "source": [
    "Perdemos un dígito..."
   ]
  },
  {
   "cell_type": "markdown",
   "metadata": {},
   "source": [
    "### Cálculo directo"
   ]
  },
  {
   "cell_type": "code",
   "execution_count": null,
   "metadata": {},
   "outputs": [],
   "source": [
    "a + np.sqrt(a ** 2 + b ** 4)"
   ]
  },
  {
   "cell_type": "markdown",
   "metadata": {},
   "source": [
    "### Manejo algebraico\n",
    "\n",
    "\\begin{equation}\n",
    "    \\begin{split}\n",
    "        a+\\sqrt{a^2 + b^4} & = a+\\sqrt{a^2 + b^4} \\cdot \\frac{a-\\sqrt{a^2 + b^4}}{a- \\sqrt{a^2 + b^4}} \\\\\n",
    "            & = \\frac{a^2-a^2 - b^4}{a- \\sqrt{a^2 + b^4}} \\\\\n",
    "            & = \\frac{-b^4}{a - \\sqrt{a^2 + b^4}} \\\\\n",
    "            & = \\frac{b^4}{\\sqrt{a^2 + b^4} - a}\n",
    "    \\end{split}\n",
    "\\end{equation}"
   ]
  },
  {
   "cell_type": "code",
   "execution_count": null,
   "metadata": {},
   "outputs": [],
   "source": [
    "b ** 4 / (np.sqrt(a ** 2 + b ** 4) - a)"
   ]
  },
  {
   "cell_type": "markdown",
   "metadata": {},
   "source": [
    "## Ejercicio 2\n",
    "\n",
    "Obtener\n",
    "\n",
    "\\begin{equation}\n",
    "    x^2 = 1.2222222^2 + 3344556600^2\n",
    "\\end{equation}\n",
    "\n",
    "Esto sería:\n",
    "\\begin{equation}\n",
    "    x = \\sqrt{1.2222222^2 + 3344556600^2}\n",
    "\\end{equation}\n",
    "\n",
    "El resultado es aproximadamente $3.34455660000000000022332214\\times 10^9$"
   ]
  },
  {
   "cell_type": "code",
   "execution_count": null,
   "metadata": {},
   "outputs": [],
   "source": [
    "c1 = 1.2222222\n",
    "c2 = 3344556600."
   ]
  },
  {
   "cell_type": "code",
   "execution_count": null,
   "metadata": {},
   "outputs": [],
   "source": [
    "print(c1, c2)"
   ]
  },
  {
   "cell_type": "code",
   "execution_count": null,
   "metadata": {},
   "outputs": [],
   "source": [
    "x1 = np.sqrt(c1 ** 2 + c2 ** 2)"
   ]
  },
  {
   "cell_type": "code",
   "execution_count": null,
   "metadata": {},
   "outputs": [],
   "source": [
    "print(x1)"
   ]
  },
  {
   "cell_type": "markdown",
   "metadata": {},
   "source": [
    "Utilizando\n",
    "\n",
    "\\begin{equation}\n",
    "    x^2 = (c_1 + c_2)^2 - 2c_1c_2\n",
    "\\end{equation}"
   ]
  },
  {
   "cell_type": "code",
   "execution_count": null,
   "metadata": {},
   "outputs": [],
   "source": [
    "x2 = np.sqrt((c1 + c2) ** 2 - 2 * c1 * c2)"
   ]
  },
  {
   "cell_type": "code",
   "execution_count": null,
   "metadata": {},
   "outputs": [],
   "source": [
    "print(x2)"
   ]
  },
  {
   "cell_type": "markdown",
   "metadata": {},
   "source": [
    "Utilizando un uno conveniente\n",
    "\n",
    "\\begin{equation}\n",
    "    \\begin{split}\n",
    "        x^2 & = \\sqrt{c_1^2 + c_2^2} \\, \\frac{\\sqrt{c_1^2 + c_2^2}}{\\sqrt{c_1^2 + c_2^2}} \\\\\n",
    "            & = \\frac{c_1^2 + c_2^2}{\\sqrt{c_1^2 + c_2^2}} \n",
    "    \\end{split}\n",
    "\\end{equation}"
   ]
  },
  {
   "cell_type": "code",
   "execution_count": null,
   "metadata": {},
   "outputs": [],
   "source": [
    "x3 = (c1 ** 2 + c2 ** 2) / np.sqrt(c1 ** 2 + c2 ** 2)"
   ]
  },
  {
   "cell_type": "code",
   "execution_count": null,
   "metadata": {},
   "outputs": [],
   "source": [
    "print(x3)"
   ]
  },
  {
   "cell_type": "code",
   "execution_count": null,
   "metadata": {},
   "outputs": [],
   "source": [
    "print(abs(3.34455660000000000022332214e9 - x1))\n",
    "print(abs(3.34455660000000000022332214e9 - x2))\n",
    "print(abs(3.34455660000000000022332214e9 - x3))"
   ]
  },
  {
   "cell_type": "markdown",
   "metadata": {},
   "source": [
    "No todos los manejos algebraicos nos ayudarán a resolver problemas mal planteados."
   ]
  },
  {
   "cell_type": "markdown",
   "metadata": {},
   "source": [
    "## Ejercicio 3\n",
    "\n",
    "Calcular las raíces de\n",
    "\n",
    "\\begin{equation}\n",
    "    x^2 + 9^{12} x - 3 = 0\n",
    "\\end{equation}\n",
    "\n",
    "\\begin{equation}\n",
    "    x = \\frac{-9^{12} \\pm \\sqrt{9^{24} + 12}}{2}\n",
    "\\end{equation}\n",
    "\n",
    "Una raíz sería:\n",
    "\n",
    "$x_1=\\frac{-9^{12} - \\sqrt{9^{24} + 12}}{2}= −2.824\\times 10^{11}$\n",
    "\n",
    "En el caso de la segunda raíz esto es muy cercano a $0$\n",
    "\n",
    "$x_2=\\frac{-9^{12} + \\sqrt{9^{24} + 12}}{2}$\n",
    "\n",
    "$-9^{12} + \\sqrt{9^{24}} \\approx 0$ pero según cómo lo calculemos vamos a poder recuperar algunos decimales."
   ]
  },
  {
   "cell_type": "markdown",
   "metadata": {},
   "source": [
    "### Cálculo directo"
   ]
  },
  {
   "cell_type": "code",
   "execution_count": null,
   "metadata": {},
   "outputs": [],
   "source": [
    "def root(a, b, c):\n",
    "    r1 = (-b - np.sqrt(b ** 2 - 4 * a * c)) / (2 * a)\n",
    "    r2 = (-b + np.sqrt(b ** 2 - 4 * a * c)) / (2 * a)\n",
    "    return r1, r2"
   ]
  },
  {
   "cell_type": "code",
   "execution_count": null,
   "metadata": {},
   "outputs": [],
   "source": [
    "a = 1.\n",
    "b = 9. ** 12\n",
    "c = -3."
   ]
  },
  {
   "cell_type": "code",
   "execution_count": null,
   "metadata": {},
   "outputs": [],
   "source": [
    "x1, x2 = root(a, b, c)"
   ]
  },
  {
   "cell_type": "code",
   "execution_count": null,
   "metadata": {},
   "outputs": [],
   "source": [
    "print(x1, x2)"
   ]
  },
  {
   "cell_type": "markdown",
   "metadata": {},
   "source": [
    "### Manejo algebraico\n",
    "\n",
    "\\begin{equation}\n",
    "    \\begin{split}\n",
    "        x_2 & = \\frac{-b + \\sqrt{b^2 - 4ac}}{2a} \\\\\n",
    "            & = \\frac{-b + \\sqrt{b^2 - 4ac}}{2a} \\, \\frac{b + \\sqrt{b^2 - 4ac}}{b + \\sqrt{b^2 - 4ac}} \\\\\n",
    "            & = \\frac{-4ac}{2a(b + \\sqrt{b^2 - 4ac})} \\\\\n",
    "            & = \\frac{-2c}{(b + \\sqrt{b^2 - 4ac})}\n",
    "    \\end{split}\n",
    "\\end{equation}"
   ]
  },
  {
   "cell_type": "code",
   "execution_count": null,
   "metadata": {},
   "outputs": [],
   "source": [
    "def root_improved(a, b, c):\n",
    "    r1 = (-b - np.sqrt(b ** 2 - 4 * a * c)) / (2 * a)\n",
    "    r2 = -2 * c / (b + np.sqrt(b ** 2 - 4 * a * c))\n",
    "    return r1, r2"
   ]
  },
  {
   "cell_type": "code",
   "execution_count": null,
   "metadata": {},
   "outputs": [],
   "source": [
    "x1, x2 = root_improved(a, b, c)"
   ]
  },
  {
   "cell_type": "code",
   "execution_count": null,
   "metadata": {},
   "outputs": [],
   "source": [
    "print(x1, x2)"
   ]
  },
  {
   "cell_type": "markdown",
   "metadata": {},
   "source": [
    "Mirando con mayor detalle, si $4|ac| \\ll b^2$, $b$ y $\\sqrt{b^2-4ac}$ son similares en magnitud por lo tanto una de las raíces va a sufrir pérdida de significancia. Revisar el libro guía para más detalles de cómo solucionar el problema."
   ]
  },
  {
   "cell_type": "markdown",
   "metadata": {},
   "source": [
    "## Ejercicio 4\n",
    "\n",
    "Sean\n",
    "\\begin{equation}\n",
    "    E_1(x)=\\frac{1-\\cos(x)}{\\sin^2(x)}, \\quad E_2(x)=\\frac{1}{1+\\cos(x)}\n",
    "\\end{equation}\n",
    "\n",
    "¿Son $E_1(x)$ y $E_2(x)$ iguales? ¿Qué ocurre al evaluarlas cerca de $0$?"
   ]
  },
  {
   "cell_type": "markdown",
   "metadata": {},
   "source": [
    "Primero, ¿$E_1(x)=E_2(x)$?\n",
    "\n",
    "\\begin{equation}\n",
    "    \\begin{split}\n",
    "        E_1(x) & =E_2(x) \\\\\n",
    "        \\frac{1-\\cos(x)}{\\sin^2(x)} & = \\frac{1}{1+\\cos(x)} \\\\\n",
    "        (1-\\cos(x))(1+\\cos(x)) &= \\sin^2(x) \\\\\n",
    "        1-\\cos^2(x) &= \\sin^2(x) \\\\\n",
    "        1 &= \\sin^2(x) + \\cos^2(x)\n",
    "    \\end{split}\n",
    "\\end{equation}\n",
    "\n",
    "Efectivamente son iguales. Ahora veamos numéricamente qué ocurre al evaluarla cerca de $0$."
   ]
  },
  {
   "cell_type": "code",
   "execution_count": null,
   "metadata": {},
   "outputs": [],
   "source": [
    "E1 = lambda x: (1 - np.cos(x)) / np.sin(x) ** 2\n",
    "E2 = lambda x: 1 / (1 + np.cos(x))"
   ]
  },
  {
   "cell_type": "code",
   "execution_count": null,
   "metadata": {},
   "outputs": [],
   "source": [
    "xa, xb = -.5, .5\n",
    "N = 101\n",
    "x = np.linspace(xa, xb, N)"
   ]
  },
  {
   "cell_type": "code",
   "execution_count": null,
   "metadata": {},
   "outputs": [],
   "source": [
    "x"
   ]
  },
  {
   "cell_type": "code",
   "execution_count": null,
   "metadata": {},
   "outputs": [],
   "source": [
    "plt.figure(figsize=(13, 4))\n",
    "plt.subplot(1, 2, 1)\n",
    "plt.plot(x, E1(x), 'b.')\n",
    "plt.xlabel(r\"$x$\")\n",
    "plt.ylabel(r\"$E_1(x)$\")\n",
    "plt.grid(True)\n",
    "plt.subplot(1, 2, 2)\n",
    "plt.plot(x, E2(x), 'r.')\n",
    "plt.xlabel(r\"$x$\")\n",
    "plt.ylabel(r\"$E_2(x)$\")\n",
    "plt.grid(True)\n",
    "plt.tight_layout()\n",
    "plt.show()"
   ]
  },
  {
   "cell_type": "markdown",
   "metadata": {},
   "source": [
    "Tenemos problemas al evaluar $0$ en el denominador de $E_1(x)$ puesto que se indetermina."
   ]
  },
  {
   "cell_type": "code",
   "execution_count": null,
   "metadata": {},
   "outputs": [],
   "source": [
    "x = np.logspace(-19,0,20)[-1:0:-1]\n",
    "o1 = E1(x)\n",
    "o2 = E2(x)\n",
    "\n",
    "print(\"x,                 E1(x),             E2(x)\")\n",
    "for i in np.arange(len(x)):\n",
    "    print(\"%1.15f, %1.15f, %1.15f\" % (x[i], o1[i], o2[i]))"
   ]
  },
  {
   "cell_type": "markdown",
   "metadata": {},
   "source": [
    "## Ejercicio 5\n",
    "\n",
    "¿Cuándo habría problemas al evaluar $f(x)$ y $g(x)$?\n",
    "\n",
    "\\begin{equation}\n",
    "    f(x) = \\frac{1-(1-x)^3}{x}, \\quad g(x)= \\frac{1}{1+x}-\\frac{1}{1-x}\n",
    "\\end{equation}"
   ]
  },
  {
   "cell_type": "code",
   "execution_count": null,
   "metadata": {},
   "outputs": [],
   "source": [
    "f = lambda x: (1 - (1 - x) ** 3) / x\n",
    "g = lambda x: 1 / (1 + x) - 1 / (1 - x)"
   ]
  },
  {
   "cell_type": "code",
   "execution_count": null,
   "metadata": {},
   "outputs": [],
   "source": [
    "xa, xb = -2, 2\n",
    "N = 101\n",
    "x = np.linspace(xa, xb, N)"
   ]
  },
  {
   "cell_type": "code",
   "execution_count": null,
   "metadata": {},
   "outputs": [],
   "source": [
    "plt.figure(figsize=(13, 4))\n",
    "plt.subplot(1, 2, 1)\n",
    "plt.plot(x, f(x), 'b.')\n",
    "plt.xlabel(r\"$x$\")\n",
    "plt.ylabel(r\"$f(x)$\")\n",
    "plt.grid(True)\n",
    "plt.subplot(1, 2, 2)\n",
    "plt.plot(x, g(x), 'r.')\n",
    "plt.xlabel(r\"$x$\")\n",
    "plt.ylabel(r\"$g(x)$\")\n",
    "plt.grid(True)\n",
    "plt.tight_layout()\n",
    "plt.show()"
   ]
  },
  {
   "cell_type": "markdown",
   "metadata": {},
   "source": [
    "Es claro que para $f(x)$ el problema se encuentra cercano a $0$ mientras que para $g(x)$ el problema está en $-1$ y $1$. En el caso de $f(x)$ basta expandirla para obtener $f(x)=x^2-3x+3$. Si operamos sobre $g(x)$ se obtiene $g(x)=\\frac{2x}{x^2-1}$, el cual contiene los mismos problemas."
   ]
  },
  {
   "cell_type": "code",
   "execution_count": null,
   "metadata": {},
   "outputs": [],
   "source": [
    "ff = lambda x: x ** 2 - 3 * x + 3\n",
    "gg = lambda x: 2 * x / (x ** 2 - 1)"
   ]
  },
  {
   "cell_type": "code",
   "execution_count": null,
   "metadata": {},
   "outputs": [],
   "source": [
    "plt.figure(figsize=(12, 4))\n",
    "plt.subplot(1, 2, 1)\n",
    "plt.plot(x, ff(x), 'b.', label=r\"$f(x)$\")\n",
    "plt.grid(True)\n",
    "plt.subplot(1, 2, 2)\n",
    "plt.plot(x, gg(x), 'r.', label=r\"$g(x)$\")\n",
    "plt.grid(True)\n",
    "plt.tight_layout()\n",
    "plt.show()"
   ]
  },
  {
   "cell_type": "markdown",
   "metadata": {},
   "source": [
    "¿Existirá alguna forma de solucionar los problemas de $g(x)$?"
   ]
  },
  {
   "cell_type": "markdown",
   "metadata": {},
   "source": [
    "# Referencias\n",
    "\n",
    "* Sauer, T. (2006). Numerical Analysis Pearson Addison Wesley.\n",
    "* https://github.com/tclaudioe/Scientific-Computing/blob/master/SC1/03_floating_point_arithmetic.ipynb <- Revisar este enlace que tiene ejemplos y comentarios interesantes!"
   ]
  }
 ],
 "metadata": {
  "kernelspec": {
   "display_name": "Python 3.7.7 64-bit ('cc': conda)",
   "language": "python",
   "name": "python37764bitcccondaf9be1bff0edc45b89bc5baae44dcd3f4"
  },
  "language_info": {
   "codemirror_mode": {
    "name": "ipython",
    "version": 3
   },
   "file_extension": ".py",
   "mimetype": "text/x-python",
   "name": "python",
   "nbconvert_exporter": "python",
   "pygments_lexer": "ipython3",
   "version": "3.7.7"
  }
 },
 "nbformat": 4,
 "nbformat_minor": 4
}
